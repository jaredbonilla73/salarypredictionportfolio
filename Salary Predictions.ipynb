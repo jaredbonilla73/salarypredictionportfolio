{
 "cells": [
  {
   "cell_type": "markdown",
   "metadata": {},
   "source": [
    "\n",
    "# Salary Predictions Based on Job Descriptions"
   ]
  },
  {
   "cell_type": "markdown",
   "metadata": {},
   "source": [
    "### The Problem/Goal "
   ]
  },
  {
   "cell_type": "markdown",
   "metadata": {},
   "source": [
    "The goal in this study is to gain a better undestanding of trends in salaries and based on these trends be able to predict salaries based on a variety of characteristics for particular job Ids. Understanding how to accurately predict salaries based on an individuals characteristics can provide employeers with valuable insight on paying the employees what they are worth based on education, major, job title, experience, etc. can keep them happy and away from competitors."
   ]
  },
  {
   "cell_type": "code",
   "execution_count": 1,
   "metadata": {},
   "outputs": [],
   "source": [
    "#import your \n",
    "import numpy as np\n",
    "import pandas as pd\n",
    "import sklearn as sk\n",
    "import matplotlib.pyplot as plt\n",
    "import seaborn as sns\n",
    "\n",
    "#your info here\n",
    "__author__ = \"Jared Bonilla\"\n",
    "__email__ = \"jbonilla7394@gmail.com\""
   ]
  },
  {
   "cell_type": "code",
   "execution_count": 2,
   "metadata": {},
   "outputs": [],
   "source": [
    "#load the data into a Pandas dataframe\n",
    "train_sals = pd.read_csv('train_salaries.csv')\n",
    "train_feats = pd.read_csv('train_features.csv')\n",
    "test_feats = pd.read_csv('test_features.csv')"
   ]
  },
  {
   "cell_type": "code",
   "execution_count": 3,
   "metadata": {},
   "outputs": [
    {
     "name": "stdout",
     "output_type": "stream",
     "text": [
      "<class 'pandas.core.frame.DataFrame'>\n",
      "RangeIndex: 1000000 entries, 0 to 999999\n",
      "Data columns (total 8 columns):\n",
      "jobId                  1000000 non-null object\n",
      "companyId              1000000 non-null object\n",
      "jobType                1000000 non-null object\n",
      "degree                 1000000 non-null object\n",
      "major                  1000000 non-null object\n",
      "industry               1000000 non-null object\n",
      "yearsExperience        1000000 non-null int64\n",
      "milesFromMetropolis    1000000 non-null int64\n",
      "dtypes: int64(2), object(6)\n",
      "memory usage: 61.0+ MB\n",
      "None\n",
      "/n\n",
      "<class 'pandas.core.frame.DataFrame'>\n",
      "RangeIndex: 1000000 entries, 0 to 999999\n",
      "Data columns (total 8 columns):\n",
      "jobId                  1000000 non-null object\n",
      "companyId              1000000 non-null object\n",
      "jobType                1000000 non-null object\n",
      "degree                 1000000 non-null object\n",
      "major                  1000000 non-null object\n",
      "industry               1000000 non-null object\n",
      "yearsExperience        1000000 non-null int64\n",
      "milesFromMetropolis    1000000 non-null int64\n",
      "dtypes: int64(2), object(6)\n",
      "memory usage: 61.0+ MB\n",
      "None\n",
      "/n\n",
      "<class 'pandas.core.frame.DataFrame'>\n",
      "RangeIndex: 1000000 entries, 0 to 999999\n",
      "Data columns (total 2 columns):\n",
      "jobId     1000000 non-null object\n",
      "salary    1000000 non-null int64\n",
      "dtypes: int64(1), object(1)\n",
      "memory usage: 15.3+ MB\n",
      "None\n"
     ]
    }
   ],
   "source": [
    "print(train_feats.info())\n",
    "print('/n')\n",
    "print(test_feats.info())\n",
    "print('/n')\n",
    "print(train_sals.info())"
   ]
  },
  {
   "cell_type": "code",
   "execution_count": 4,
   "metadata": {},
   "outputs": [
    {
     "data": {
      "text/html": [
       "<div>\n",
       "<style scoped>\n",
       "    .dataframe tbody tr th:only-of-type {\n",
       "        vertical-align: middle;\n",
       "    }\n",
       "\n",
       "    .dataframe tbody tr th {\n",
       "        vertical-align: top;\n",
       "    }\n",
       "\n",
       "    .dataframe thead th {\n",
       "        text-align: right;\n",
       "    }\n",
       "</style>\n",
       "<table border=\"1\" class=\"dataframe\">\n",
       "  <thead>\n",
       "    <tr style=\"text-align: right;\">\n",
       "      <th></th>\n",
       "      <th>jobId</th>\n",
       "      <th>companyId</th>\n",
       "      <th>jobType</th>\n",
       "      <th>degree</th>\n",
       "      <th>major</th>\n",
       "      <th>industry</th>\n",
       "      <th>yearsExperience</th>\n",
       "      <th>milesFromMetropolis</th>\n",
       "    </tr>\n",
       "  </thead>\n",
       "  <tbody>\n",
       "    <tr>\n",
       "      <th>0</th>\n",
       "      <td>JOB1362684407687</td>\n",
       "      <td>COMP37</td>\n",
       "      <td>CFO</td>\n",
       "      <td>MASTERS</td>\n",
       "      <td>MATH</td>\n",
       "      <td>HEALTH</td>\n",
       "      <td>10</td>\n",
       "      <td>83</td>\n",
       "    </tr>\n",
       "    <tr>\n",
       "      <th>1</th>\n",
       "      <td>JOB1362684407688</td>\n",
       "      <td>COMP19</td>\n",
       "      <td>CEO</td>\n",
       "      <td>HIGH_SCHOOL</td>\n",
       "      <td>NONE</td>\n",
       "      <td>WEB</td>\n",
       "      <td>3</td>\n",
       "      <td>73</td>\n",
       "    </tr>\n",
       "    <tr>\n",
       "      <th>2</th>\n",
       "      <td>JOB1362684407689</td>\n",
       "      <td>COMP52</td>\n",
       "      <td>VICE_PRESIDENT</td>\n",
       "      <td>DOCTORAL</td>\n",
       "      <td>PHYSICS</td>\n",
       "      <td>HEALTH</td>\n",
       "      <td>10</td>\n",
       "      <td>38</td>\n",
       "    </tr>\n",
       "    <tr>\n",
       "      <th>3</th>\n",
       "      <td>JOB1362684407690</td>\n",
       "      <td>COMP38</td>\n",
       "      <td>MANAGER</td>\n",
       "      <td>DOCTORAL</td>\n",
       "      <td>CHEMISTRY</td>\n",
       "      <td>AUTO</td>\n",
       "      <td>8</td>\n",
       "      <td>17</td>\n",
       "    </tr>\n",
       "    <tr>\n",
       "      <th>4</th>\n",
       "      <td>JOB1362684407691</td>\n",
       "      <td>COMP7</td>\n",
       "      <td>VICE_PRESIDENT</td>\n",
       "      <td>BACHELORS</td>\n",
       "      <td>PHYSICS</td>\n",
       "      <td>FINANCE</td>\n",
       "      <td>8</td>\n",
       "      <td>16</td>\n",
       "    </tr>\n",
       "  </tbody>\n",
       "</table>\n",
       "</div>"
      ],
      "text/plain": [
       "              jobId companyId         jobType       degree      major  \\\n",
       "0  JOB1362684407687    COMP37             CFO      MASTERS       MATH   \n",
       "1  JOB1362684407688    COMP19             CEO  HIGH_SCHOOL       NONE   \n",
       "2  JOB1362684407689    COMP52  VICE_PRESIDENT     DOCTORAL    PHYSICS   \n",
       "3  JOB1362684407690    COMP38         MANAGER     DOCTORAL  CHEMISTRY   \n",
       "4  JOB1362684407691     COMP7  VICE_PRESIDENT    BACHELORS    PHYSICS   \n",
       "\n",
       "  industry  yearsExperience  milesFromMetropolis  \n",
       "0   HEALTH               10                   83  \n",
       "1      WEB                3                   73  \n",
       "2   HEALTH               10                   38  \n",
       "3     AUTO                8                   17  \n",
       "4  FINANCE                8                   16  "
      ]
     },
     "execution_count": 4,
     "metadata": {},
     "output_type": "execute_result"
    }
   ],
   "source": [
    "train_feats.head()"
   ]
  },
  {
   "cell_type": "code",
   "execution_count": 5,
   "metadata": {},
   "outputs": [
    {
     "data": {
      "text/html": [
       "<div>\n",
       "<style scoped>\n",
       "    .dataframe tbody tr th:only-of-type {\n",
       "        vertical-align: middle;\n",
       "    }\n",
       "\n",
       "    .dataframe tbody tr th {\n",
       "        vertical-align: top;\n",
       "    }\n",
       "\n",
       "    .dataframe thead th {\n",
       "        text-align: right;\n",
       "    }\n",
       "</style>\n",
       "<table border=\"1\" class=\"dataframe\">\n",
       "  <thead>\n",
       "    <tr style=\"text-align: right;\">\n",
       "      <th></th>\n",
       "      <th>jobId</th>\n",
       "      <th>companyId</th>\n",
       "      <th>jobType</th>\n",
       "      <th>degree</th>\n",
       "      <th>major</th>\n",
       "      <th>industry</th>\n",
       "      <th>yearsExperience</th>\n",
       "      <th>milesFromMetropolis</th>\n",
       "    </tr>\n",
       "  </thead>\n",
       "  <tbody>\n",
       "    <tr>\n",
       "      <th>0</th>\n",
       "      <td>JOB1362685407687</td>\n",
       "      <td>COMP33</td>\n",
       "      <td>MANAGER</td>\n",
       "      <td>HIGH_SCHOOL</td>\n",
       "      <td>NONE</td>\n",
       "      <td>HEALTH</td>\n",
       "      <td>22</td>\n",
       "      <td>73</td>\n",
       "    </tr>\n",
       "    <tr>\n",
       "      <th>1</th>\n",
       "      <td>JOB1362685407688</td>\n",
       "      <td>COMP13</td>\n",
       "      <td>JUNIOR</td>\n",
       "      <td>NONE</td>\n",
       "      <td>NONE</td>\n",
       "      <td>AUTO</td>\n",
       "      <td>20</td>\n",
       "      <td>47</td>\n",
       "    </tr>\n",
       "    <tr>\n",
       "      <th>2</th>\n",
       "      <td>JOB1362685407689</td>\n",
       "      <td>COMP10</td>\n",
       "      <td>CTO</td>\n",
       "      <td>MASTERS</td>\n",
       "      <td>BIOLOGY</td>\n",
       "      <td>HEALTH</td>\n",
       "      <td>17</td>\n",
       "      <td>9</td>\n",
       "    </tr>\n",
       "    <tr>\n",
       "      <th>3</th>\n",
       "      <td>JOB1362685407690</td>\n",
       "      <td>COMP21</td>\n",
       "      <td>MANAGER</td>\n",
       "      <td>HIGH_SCHOOL</td>\n",
       "      <td>NONE</td>\n",
       "      <td>OIL</td>\n",
       "      <td>14</td>\n",
       "      <td>96</td>\n",
       "    </tr>\n",
       "    <tr>\n",
       "      <th>4</th>\n",
       "      <td>JOB1362685407691</td>\n",
       "      <td>COMP36</td>\n",
       "      <td>JUNIOR</td>\n",
       "      <td>DOCTORAL</td>\n",
       "      <td>BIOLOGY</td>\n",
       "      <td>OIL</td>\n",
       "      <td>10</td>\n",
       "      <td>44</td>\n",
       "    </tr>\n",
       "  </tbody>\n",
       "</table>\n",
       "</div>"
      ],
      "text/plain": [
       "              jobId companyId  jobType       degree    major industry  \\\n",
       "0  JOB1362685407687    COMP33  MANAGER  HIGH_SCHOOL     NONE   HEALTH   \n",
       "1  JOB1362685407688    COMP13   JUNIOR         NONE     NONE     AUTO   \n",
       "2  JOB1362685407689    COMP10      CTO      MASTERS  BIOLOGY   HEALTH   \n",
       "3  JOB1362685407690    COMP21  MANAGER  HIGH_SCHOOL     NONE      OIL   \n",
       "4  JOB1362685407691    COMP36   JUNIOR     DOCTORAL  BIOLOGY      OIL   \n",
       "\n",
       "   yearsExperience  milesFromMetropolis  \n",
       "0               22                   73  \n",
       "1               20                   47  \n",
       "2               17                    9  \n",
       "3               14                   96  \n",
       "4               10                   44  "
      ]
     },
     "execution_count": 5,
     "metadata": {},
     "output_type": "execute_result"
    }
   ],
   "source": [
    "test_feats.head()"
   ]
  },
  {
   "cell_type": "code",
   "execution_count": 6,
   "metadata": {},
   "outputs": [
    {
     "data": {
      "text/html": [
       "<div>\n",
       "<style scoped>\n",
       "    .dataframe tbody tr th:only-of-type {\n",
       "        vertical-align: middle;\n",
       "    }\n",
       "\n",
       "    .dataframe tbody tr th {\n",
       "        vertical-align: top;\n",
       "    }\n",
       "\n",
       "    .dataframe thead th {\n",
       "        text-align: right;\n",
       "    }\n",
       "</style>\n",
       "<table border=\"1\" class=\"dataframe\">\n",
       "  <thead>\n",
       "    <tr style=\"text-align: right;\">\n",
       "      <th></th>\n",
       "      <th>jobId</th>\n",
       "      <th>salary</th>\n",
       "    </tr>\n",
       "  </thead>\n",
       "  <tbody>\n",
       "    <tr>\n",
       "      <th>0</th>\n",
       "      <td>JOB1362684407687</td>\n",
       "      <td>130</td>\n",
       "    </tr>\n",
       "    <tr>\n",
       "      <th>1</th>\n",
       "      <td>JOB1362684407688</td>\n",
       "      <td>101</td>\n",
       "    </tr>\n",
       "    <tr>\n",
       "      <th>2</th>\n",
       "      <td>JOB1362684407689</td>\n",
       "      <td>137</td>\n",
       "    </tr>\n",
       "    <tr>\n",
       "      <th>3</th>\n",
       "      <td>JOB1362684407690</td>\n",
       "      <td>142</td>\n",
       "    </tr>\n",
       "    <tr>\n",
       "      <th>4</th>\n",
       "      <td>JOB1362684407691</td>\n",
       "      <td>163</td>\n",
       "    </tr>\n",
       "  </tbody>\n",
       "</table>\n",
       "</div>"
      ],
      "text/plain": [
       "              jobId  salary\n",
       "0  JOB1362684407687     130\n",
       "1  JOB1362684407688     101\n",
       "2  JOB1362684407689     137\n",
       "3  JOB1362684407690     142\n",
       "4  JOB1362684407691     163"
      ]
     },
     "execution_count": 6,
     "metadata": {},
     "output_type": "execute_result"
    }
   ],
   "source": [
    "train_sals.head()"
   ]
  },
  {
   "cell_type": "code",
   "execution_count": 7,
   "metadata": {},
   "outputs": [
    {
     "data": {
      "text/html": [
       "<div>\n",
       "<style scoped>\n",
       "    .dataframe tbody tr th:only-of-type {\n",
       "        vertical-align: middle;\n",
       "    }\n",
       "\n",
       "    .dataframe tbody tr th {\n",
       "        vertical-align: top;\n",
       "    }\n",
       "\n",
       "    .dataframe thead th {\n",
       "        text-align: right;\n",
       "    }\n",
       "</style>\n",
       "<table border=\"1\" class=\"dataframe\">\n",
       "  <thead>\n",
       "    <tr style=\"text-align: right;\">\n",
       "      <th></th>\n",
       "      <th>jobId</th>\n",
       "      <th>companyId</th>\n",
       "      <th>jobType</th>\n",
       "      <th>degree</th>\n",
       "      <th>major</th>\n",
       "      <th>industry</th>\n",
       "      <th>yearsExperience</th>\n",
       "      <th>milesFromMetropolis</th>\n",
       "      <th>salary</th>\n",
       "    </tr>\n",
       "  </thead>\n",
       "  <tbody>\n",
       "    <tr>\n",
       "      <th>0</th>\n",
       "      <td>JOB1362684407687</td>\n",
       "      <td>COMP37</td>\n",
       "      <td>CFO</td>\n",
       "      <td>MASTERS</td>\n",
       "      <td>MATH</td>\n",
       "      <td>HEALTH</td>\n",
       "      <td>10</td>\n",
       "      <td>83</td>\n",
       "      <td>130</td>\n",
       "    </tr>\n",
       "    <tr>\n",
       "      <th>1</th>\n",
       "      <td>JOB1362684407688</td>\n",
       "      <td>COMP19</td>\n",
       "      <td>CEO</td>\n",
       "      <td>HIGH_SCHOOL</td>\n",
       "      <td>NONE</td>\n",
       "      <td>WEB</td>\n",
       "      <td>3</td>\n",
       "      <td>73</td>\n",
       "      <td>101</td>\n",
       "    </tr>\n",
       "    <tr>\n",
       "      <th>2</th>\n",
       "      <td>JOB1362684407689</td>\n",
       "      <td>COMP52</td>\n",
       "      <td>VICE_PRESIDENT</td>\n",
       "      <td>DOCTORAL</td>\n",
       "      <td>PHYSICS</td>\n",
       "      <td>HEALTH</td>\n",
       "      <td>10</td>\n",
       "      <td>38</td>\n",
       "      <td>137</td>\n",
       "    </tr>\n",
       "    <tr>\n",
       "      <th>3</th>\n",
       "      <td>JOB1362684407690</td>\n",
       "      <td>COMP38</td>\n",
       "      <td>MANAGER</td>\n",
       "      <td>DOCTORAL</td>\n",
       "      <td>CHEMISTRY</td>\n",
       "      <td>AUTO</td>\n",
       "      <td>8</td>\n",
       "      <td>17</td>\n",
       "      <td>142</td>\n",
       "    </tr>\n",
       "    <tr>\n",
       "      <th>4</th>\n",
       "      <td>JOB1362684407691</td>\n",
       "      <td>COMP7</td>\n",
       "      <td>VICE_PRESIDENT</td>\n",
       "      <td>BACHELORS</td>\n",
       "      <td>PHYSICS</td>\n",
       "      <td>FINANCE</td>\n",
       "      <td>8</td>\n",
       "      <td>16</td>\n",
       "      <td>163</td>\n",
       "    </tr>\n",
       "  </tbody>\n",
       "</table>\n",
       "</div>"
      ],
      "text/plain": [
       "              jobId companyId         jobType       degree      major  \\\n",
       "0  JOB1362684407687    COMP37             CFO      MASTERS       MATH   \n",
       "1  JOB1362684407688    COMP19             CEO  HIGH_SCHOOL       NONE   \n",
       "2  JOB1362684407689    COMP52  VICE_PRESIDENT     DOCTORAL    PHYSICS   \n",
       "3  JOB1362684407690    COMP38         MANAGER     DOCTORAL  CHEMISTRY   \n",
       "4  JOB1362684407691     COMP7  VICE_PRESIDENT    BACHELORS    PHYSICS   \n",
       "\n",
       "  industry  yearsExperience  milesFromMetropolis  salary  \n",
       "0   HEALTH               10                   83     130  \n",
       "1      WEB                3                   73     101  \n",
       "2   HEALTH               10                   38     137  \n",
       "3     AUTO                8                   17     142  \n",
       "4  FINANCE                8                   16     163  "
      ]
     },
     "execution_count": 7,
     "metadata": {},
     "output_type": "execute_result"
    }
   ],
   "source": [
    "df = pd.merge(train_feats,train_sals,on='jobId')\n",
    "df.head()"
   ]
  },
  {
   "cell_type": "code",
   "execution_count": 8,
   "metadata": {},
   "outputs": [
    {
     "data": {
      "text/html": [
       "<div>\n",
       "<style scoped>\n",
       "    .dataframe tbody tr th:only-of-type {\n",
       "        vertical-align: middle;\n",
       "    }\n",
       "\n",
       "    .dataframe tbody tr th {\n",
       "        vertical-align: top;\n",
       "    }\n",
       "\n",
       "    .dataframe thead th {\n",
       "        text-align: right;\n",
       "    }\n",
       "</style>\n",
       "<table border=\"1\" class=\"dataframe\">\n",
       "  <thead>\n",
       "    <tr style=\"text-align: right;\">\n",
       "      <th></th>\n",
       "      <th>yearsExperience</th>\n",
       "      <th>milesFromMetropolis</th>\n",
       "      <th>salary</th>\n",
       "    </tr>\n",
       "  </thead>\n",
       "  <tbody>\n",
       "    <tr>\n",
       "      <th>count</th>\n",
       "      <td>1000000.000000</td>\n",
       "      <td>1000000.000000</td>\n",
       "      <td>1000000.000000</td>\n",
       "    </tr>\n",
       "    <tr>\n",
       "      <th>mean</th>\n",
       "      <td>11.992386</td>\n",
       "      <td>49.529260</td>\n",
       "      <td>116.061818</td>\n",
       "    </tr>\n",
       "    <tr>\n",
       "      <th>std</th>\n",
       "      <td>7.212391</td>\n",
       "      <td>28.877733</td>\n",
       "      <td>38.717936</td>\n",
       "    </tr>\n",
       "    <tr>\n",
       "      <th>min</th>\n",
       "      <td>0.000000</td>\n",
       "      <td>0.000000</td>\n",
       "      <td>0.000000</td>\n",
       "    </tr>\n",
       "    <tr>\n",
       "      <th>25%</th>\n",
       "      <td>6.000000</td>\n",
       "      <td>25.000000</td>\n",
       "      <td>88.000000</td>\n",
       "    </tr>\n",
       "    <tr>\n",
       "      <th>50%</th>\n",
       "      <td>12.000000</td>\n",
       "      <td>50.000000</td>\n",
       "      <td>114.000000</td>\n",
       "    </tr>\n",
       "    <tr>\n",
       "      <th>75%</th>\n",
       "      <td>18.000000</td>\n",
       "      <td>75.000000</td>\n",
       "      <td>141.000000</td>\n",
       "    </tr>\n",
       "    <tr>\n",
       "      <th>max</th>\n",
       "      <td>24.000000</td>\n",
       "      <td>99.000000</td>\n",
       "      <td>301.000000</td>\n",
       "    </tr>\n",
       "  </tbody>\n",
       "</table>\n",
       "</div>"
      ],
      "text/plain": [
       "       yearsExperience  milesFromMetropolis          salary\n",
       "count   1000000.000000       1000000.000000  1000000.000000\n",
       "mean         11.992386            49.529260      116.061818\n",
       "std           7.212391            28.877733       38.717936\n",
       "min           0.000000             0.000000        0.000000\n",
       "25%           6.000000            25.000000       88.000000\n",
       "50%          12.000000            50.000000      114.000000\n",
       "75%          18.000000            75.000000      141.000000\n",
       "max          24.000000            99.000000      301.000000"
      ]
     },
     "execution_count": 8,
     "metadata": {},
     "output_type": "execute_result"
    }
   ],
   "source": [
    "df.describe(include=[np.number])"
   ]
  },
  {
   "cell_type": "markdown",
   "metadata": {},
   "source": [
    "Realize min salary is 0 raises some questions. This will require try to gain a basic understanding of the each column and what their salaries average around then check 0 salaries and see if it was a mistake and we should recompute those values or or remove them."
   ]
  },
  {
   "cell_type": "code",
   "execution_count": 9,
   "metadata": {},
   "outputs": [],
   "source": [
    "def group_mean(col):\n",
    "    return df.groupby(col)['salary'].mean().sort_values(ascending=False)"
   ]
  },
  {
   "cell_type": "code",
   "execution_count": 10,
   "metadata": {},
   "outputs": [
    {
     "data": {
      "text/plain": [
       "jobType\n",
       "CEO               145.311425\n",
       "CTO               135.479983\n",
       "CFO               135.458547\n",
       "VICE_PRESIDENT    125.367629\n",
       "MANAGER           115.367596\n",
       "SENIOR            105.487775\n",
       "JUNIOR             95.331557\n",
       "JANITOR            70.813045\n",
       "Name: salary, dtype: float64"
      ]
     },
     "execution_count": 10,
     "metadata": {},
     "output_type": "execute_result"
    }
   ],
   "source": [
    "group_mean('jobType')"
   ]
  },
  {
   "cell_type": "code",
   "execution_count": 11,
   "metadata": {},
   "outputs": [
    {
     "data": {
      "text/plain": [
       "major\n",
       "ENGINEERING    138.436617\n",
       "BUSINESS       135.648980\n",
       "MATH           133.319735\n",
       "COMPSCI        132.075605\n",
       "PHYSICS        130.372436\n",
       "CHEMISTRY      129.072085\n",
       "BIOLOGY        127.932664\n",
       "LITERATURE     124.423097\n",
       "NONE           102.583479\n",
       "Name: salary, dtype: float64"
      ]
     },
     "execution_count": 11,
     "metadata": {},
     "output_type": "execute_result"
    }
   ],
   "source": [
    "group_mean('major')"
   ]
  },
  {
   "cell_type": "code",
   "execution_count": 12,
   "metadata": {},
   "outputs": [
    {
     "data": {
      "text/plain": [
       "degree\n",
       "DOCTORAL       135.489433\n",
       "MASTERS        130.504903\n",
       "BACHELORS      125.454663\n",
       "HIGH_SCHOOL    101.920654\n",
       "NONE            98.176467\n",
       "Name: salary, dtype: float64"
      ]
     },
     "execution_count": 12,
     "metadata": {},
     "output_type": "execute_result"
    }
   ],
   "source": [
    "group_mean('degree')"
   ]
  },
  {
   "cell_type": "code",
   "execution_count": 13,
   "metadata": {},
   "outputs": [
    {
     "data": {
      "text/plain": [
       "industry\n",
       "OIL          130.952946\n",
       "FINANCE      130.746743\n",
       "WEB          121.644512\n",
       "HEALTH       115.735540\n",
       "AUTO         109.433690\n",
       "SERVICE      104.446820\n",
       "EDUCATION     99.448386\n",
       "Name: salary, dtype: float64"
      ]
     },
     "execution_count": 13,
     "metadata": {},
     "output_type": "execute_result"
    }
   ],
   "source": [
    "group_mean('industry')"
   ]
  },
  {
   "cell_type": "code",
   "execution_count": 14,
   "metadata": {},
   "outputs": [
    {
     "data": {
      "text/plain": [
       "<matplotlib.axes._subplots.AxesSubplot at 0x24e208a48d0>"
      ]
     },
     "execution_count": 14,
     "metadata": {},
     "output_type": "execute_result"
    },
    {
     "data": {
      "image/png": "[encoded data removed]",
      "text/plain": [
       "<Figure size 720x288 with 1 Axes>"
      ]
     },
     "metadata": {
      "needs_background": "light"
     },
     "output_type": "display_data"
    }
   ],
   "source": [
    "plt.figure(figsize=(10,4))\n",
    "plt.subplot(1,2,1)\n",
    "sns.boxplot(df.salary)"
   ]
  },
  {
   "cell_type": "markdown",
   "metadata": {},
   "source": [
    "After examining the average salaries for each category, its necessary to check all salaries see where they went to fall and look for potential outliers. The majority of salaries fall around 100-150K. The higher end reaches 300k while lower end is around 0, with the minimum 0 as well definitely need to check out these outliers. With that being the majority of the salary information gathered from understanding the mean based on each category logically makes sense. Here we saw the more profitable industries and majors that tend to lead with to these industries as well as higher level of education and job type tend to have higher salaries, which was to be expected. "
   ]
  },
  {
   "cell_type": "code",
   "execution_count": 15,
   "metadata": {},
   "outputs": [],
   "source": [
    "def outlier_detector(col):\n",
    "    q3= df[col].describe().at['75%']\n",
    "    q1= df[col].describe().at['25%']\n",
    "    iqr = q3-q1\n",
    "    high_outlie = q3+1.5*iqr\n",
    "    low = q1-1.5*iqr\n",
    "    print('The higher end of outliers are around {} and the lower end of outliers are around {}'.format(high_outlie,low))"
   ]
  },
  {
   "cell_type": "code",
   "execution_count": 16,
   "metadata": {},
   "outputs": [
    {
     "name": "stdout",
     "output_type": "stream",
     "text": [
      "The higher end of outliers are around 220.5 and the lower end of outliers are around 8.5\n"
     ]
    }
   ],
   "source": [
    "outlier_detector('salary')"
   ]
  },
  {
   "cell_type": "code",
   "execution_count": 17,
   "metadata": {},
   "outputs": [
    {
     "data": {
      "text/html": [
       "<div>\n",
       "<style scoped>\n",
       "    .dataframe tbody tr th:only-of-type {\n",
       "        vertical-align: middle;\n",
       "    }\n",
       "\n",
       "    .dataframe tbody tr th {\n",
       "        vertical-align: top;\n",
       "    }\n",
       "\n",
       "    .dataframe thead th {\n",
       "        text-align: right;\n",
       "    }\n",
       "</style>\n",
       "<table border=\"1\" class=\"dataframe\">\n",
       "  <thead>\n",
       "    <tr style=\"text-align: right;\">\n",
       "      <th></th>\n",
       "      <th>jobId</th>\n",
       "      <th>companyId</th>\n",
       "      <th>jobType</th>\n",
       "      <th>degree</th>\n",
       "      <th>major</th>\n",
       "      <th>industry</th>\n",
       "      <th>yearsExperience</th>\n",
       "      <th>milesFromMetropolis</th>\n",
       "      <th>salary</th>\n",
       "    </tr>\n",
       "  </thead>\n",
       "  <tbody>\n",
       "    <tr>\n",
       "      <th>30559</th>\n",
       "      <td>JOB1362684438246</td>\n",
       "      <td>COMP44</td>\n",
       "      <td>JUNIOR</td>\n",
       "      <td>DOCTORAL</td>\n",
       "      <td>MATH</td>\n",
       "      <td>AUTO</td>\n",
       "      <td>11</td>\n",
       "      <td>7</td>\n",
       "      <td>0</td>\n",
       "    </tr>\n",
       "    <tr>\n",
       "      <th>495984</th>\n",
       "      <td>JOB1362684903671</td>\n",
       "      <td>COMP34</td>\n",
       "      <td>JUNIOR</td>\n",
       "      <td>NONE</td>\n",
       "      <td>NONE</td>\n",
       "      <td>OIL</td>\n",
       "      <td>1</td>\n",
       "      <td>25</td>\n",
       "      <td>0</td>\n",
       "    </tr>\n",
       "    <tr>\n",
       "      <th>652076</th>\n",
       "      <td>JOB1362685059763</td>\n",
       "      <td>COMP25</td>\n",
       "      <td>CTO</td>\n",
       "      <td>HIGH_SCHOOL</td>\n",
       "      <td>NONE</td>\n",
       "      <td>AUTO</td>\n",
       "      <td>6</td>\n",
       "      <td>60</td>\n",
       "      <td>0</td>\n",
       "    </tr>\n",
       "    <tr>\n",
       "      <th>816129</th>\n",
       "      <td>JOB1362685223816</td>\n",
       "      <td>COMP42</td>\n",
       "      <td>MANAGER</td>\n",
       "      <td>DOCTORAL</td>\n",
       "      <td>ENGINEERING</td>\n",
       "      <td>FINANCE</td>\n",
       "      <td>18</td>\n",
       "      <td>6</td>\n",
       "      <td>0</td>\n",
       "    </tr>\n",
       "    <tr>\n",
       "      <th>828156</th>\n",
       "      <td>JOB1362685235843</td>\n",
       "      <td>COMP40</td>\n",
       "      <td>VICE_PRESIDENT</td>\n",
       "      <td>MASTERS</td>\n",
       "      <td>ENGINEERING</td>\n",
       "      <td>WEB</td>\n",
       "      <td>3</td>\n",
       "      <td>29</td>\n",
       "      <td>0</td>\n",
       "    </tr>\n",
       "  </tbody>\n",
       "</table>\n",
       "</div>"
      ],
      "text/plain": [
       "                   jobId companyId         jobType       degree        major  \\\n",
       "30559   JOB1362684438246    COMP44          JUNIOR     DOCTORAL         MATH   \n",
       "495984  JOB1362684903671    COMP34          JUNIOR         NONE         NONE   \n",
       "652076  JOB1362685059763    COMP25             CTO  HIGH_SCHOOL         NONE   \n",
       "816129  JOB1362685223816    COMP42         MANAGER     DOCTORAL  ENGINEERING   \n",
       "828156  JOB1362685235843    COMP40  VICE_PRESIDENT      MASTERS  ENGINEERING   \n",
       "\n",
       "       industry  yearsExperience  milesFromMetropolis  salary  \n",
       "30559      AUTO               11                    7       0  \n",
       "495984      OIL                1                   25       0  \n",
       "652076     AUTO                6                   60       0  \n",
       "816129  FINANCE               18                    6       0  \n",
       "828156      WEB                3                   29       0  "
      ]
     },
     "execution_count": 17,
     "metadata": {},
     "output_type": "execute_result"
    }
   ],
   "source": [
    "df[df.salary<=8.5]"
   ]
  },
  {
   "cell_type": "code",
   "execution_count": 18,
   "metadata": {},
   "outputs": [
    {
     "data": {
      "text/plain": [
       "CEO               3227\n",
       "CFO               1496\n",
       "CTO               1488\n",
       "VICE_PRESIDENT     603\n",
       "MANAGER            217\n",
       "SENIOR              66\n",
       "JUNIOR              20\n",
       "Name: jobType, dtype: int64"
      ]
     },
     "execution_count": 18,
     "metadata": {},
     "output_type": "execute_result"
    }
   ],
   "source": [
    "df.loc[df.salary>=220.5,'jobType'].value_counts()"
   ]
  },
  {
   "cell_type": "code",
   "execution_count": 19,
   "metadata": {},
   "outputs": [
    {
     "data": {
      "text/html": [
       "<div>\n",
       "<style scoped>\n",
       "    .dataframe tbody tr th:only-of-type {\n",
       "        vertical-align: middle;\n",
       "    }\n",
       "\n",
       "    .dataframe tbody tr th {\n",
       "        vertical-align: top;\n",
       "    }\n",
       "\n",
       "    .dataframe thead th {\n",
       "        text-align: right;\n",
       "    }\n",
       "</style>\n",
       "<table border=\"1\" class=\"dataframe\">\n",
       "  <thead>\n",
       "    <tr style=\"text-align: right;\">\n",
       "      <th></th>\n",
       "      <th>jobId</th>\n",
       "      <th>companyId</th>\n",
       "      <th>jobType</th>\n",
       "      <th>degree</th>\n",
       "      <th>major</th>\n",
       "      <th>industry</th>\n",
       "      <th>yearsExperience</th>\n",
       "      <th>milesFromMetropolis</th>\n",
       "      <th>salary</th>\n",
       "    </tr>\n",
       "  </thead>\n",
       "  <tbody>\n",
       "    <tr>\n",
       "      <th>1222</th>\n",
       "      <td>JOB1362684408909</td>\n",
       "      <td>COMP40</td>\n",
       "      <td>JUNIOR</td>\n",
       "      <td>MASTERS</td>\n",
       "      <td>COMPSCI</td>\n",
       "      <td>OIL</td>\n",
       "      <td>24</td>\n",
       "      <td>5</td>\n",
       "      <td>225</td>\n",
       "    </tr>\n",
       "    <tr>\n",
       "      <th>27710</th>\n",
       "      <td>JOB1362684435397</td>\n",
       "      <td>COMP21</td>\n",
       "      <td>JUNIOR</td>\n",
       "      <td>DOCTORAL</td>\n",
       "      <td>ENGINEERING</td>\n",
       "      <td>OIL</td>\n",
       "      <td>24</td>\n",
       "      <td>3</td>\n",
       "      <td>246</td>\n",
       "    </tr>\n",
       "    <tr>\n",
       "      <th>31355</th>\n",
       "      <td>JOB1362684439042</td>\n",
       "      <td>COMP45</td>\n",
       "      <td>JUNIOR</td>\n",
       "      <td>DOCTORAL</td>\n",
       "      <td>COMPSCI</td>\n",
       "      <td>FINANCE</td>\n",
       "      <td>24</td>\n",
       "      <td>0</td>\n",
       "      <td>225</td>\n",
       "    </tr>\n",
       "    <tr>\n",
       "      <th>100042</th>\n",
       "      <td>JOB1362684507729</td>\n",
       "      <td>COMP17</td>\n",
       "      <td>JUNIOR</td>\n",
       "      <td>DOCTORAL</td>\n",
       "      <td>BUSINESS</td>\n",
       "      <td>FINANCE</td>\n",
       "      <td>23</td>\n",
       "      <td>8</td>\n",
       "      <td>248</td>\n",
       "    </tr>\n",
       "    <tr>\n",
       "      <th>160333</th>\n",
       "      <td>JOB1362684568020</td>\n",
       "      <td>COMP18</td>\n",
       "      <td>JUNIOR</td>\n",
       "      <td>DOCTORAL</td>\n",
       "      <td>BUSINESS</td>\n",
       "      <td>FINANCE</td>\n",
       "      <td>22</td>\n",
       "      <td>3</td>\n",
       "      <td>223</td>\n",
       "    </tr>\n",
       "    <tr>\n",
       "      <th>189582</th>\n",
       "      <td>JOB1362684597269</td>\n",
       "      <td>COMP32</td>\n",
       "      <td>JUNIOR</td>\n",
       "      <td>DOCTORAL</td>\n",
       "      <td>BUSINESS</td>\n",
       "      <td>OIL</td>\n",
       "      <td>24</td>\n",
       "      <td>11</td>\n",
       "      <td>221</td>\n",
       "    </tr>\n",
       "    <tr>\n",
       "      <th>214606</th>\n",
       "      <td>JOB1362684622293</td>\n",
       "      <td>COMP47</td>\n",
       "      <td>JUNIOR</td>\n",
       "      <td>MASTERS</td>\n",
       "      <td>BUSINESS</td>\n",
       "      <td>FINANCE</td>\n",
       "      <td>22</td>\n",
       "      <td>4</td>\n",
       "      <td>222</td>\n",
       "    </tr>\n",
       "    <tr>\n",
       "      <th>303778</th>\n",
       "      <td>JOB1362684711465</td>\n",
       "      <td>COMP51</td>\n",
       "      <td>JUNIOR</td>\n",
       "      <td>MASTERS</td>\n",
       "      <td>ENGINEERING</td>\n",
       "      <td>WEB</td>\n",
       "      <td>24</td>\n",
       "      <td>2</td>\n",
       "      <td>226</td>\n",
       "    </tr>\n",
       "    <tr>\n",
       "      <th>348354</th>\n",
       "      <td>JOB1362684756041</td>\n",
       "      <td>COMP56</td>\n",
       "      <td>JUNIOR</td>\n",
       "      <td>DOCTORAL</td>\n",
       "      <td>ENGINEERING</td>\n",
       "      <td>OIL</td>\n",
       "      <td>23</td>\n",
       "      <td>25</td>\n",
       "      <td>226</td>\n",
       "    </tr>\n",
       "    <tr>\n",
       "      <th>427593</th>\n",
       "      <td>JOB1362684835280</td>\n",
       "      <td>COMP54</td>\n",
       "      <td>JUNIOR</td>\n",
       "      <td>DOCTORAL</td>\n",
       "      <td>ENGINEERING</td>\n",
       "      <td>FINANCE</td>\n",
       "      <td>23</td>\n",
       "      <td>3</td>\n",
       "      <td>221</td>\n",
       "    </tr>\n",
       "    <tr>\n",
       "      <th>500739</th>\n",
       "      <td>JOB1362684908426</td>\n",
       "      <td>COMP40</td>\n",
       "      <td>JUNIOR</td>\n",
       "      <td>DOCTORAL</td>\n",
       "      <td>ENGINEERING</td>\n",
       "      <td>OIL</td>\n",
       "      <td>21</td>\n",
       "      <td>0</td>\n",
       "      <td>227</td>\n",
       "    </tr>\n",
       "    <tr>\n",
       "      <th>627534</th>\n",
       "      <td>JOB1362685035221</td>\n",
       "      <td>COMP5</td>\n",
       "      <td>JUNIOR</td>\n",
       "      <td>DOCTORAL</td>\n",
       "      <td>ENGINEERING</td>\n",
       "      <td>OIL</td>\n",
       "      <td>24</td>\n",
       "      <td>29</td>\n",
       "      <td>230</td>\n",
       "    </tr>\n",
       "    <tr>\n",
       "      <th>645555</th>\n",
       "      <td>JOB1362685053242</td>\n",
       "      <td>COMP36</td>\n",
       "      <td>JUNIOR</td>\n",
       "      <td>DOCTORAL</td>\n",
       "      <td>BUSINESS</td>\n",
       "      <td>FINANCE</td>\n",
       "      <td>24</td>\n",
       "      <td>1</td>\n",
       "      <td>225</td>\n",
       "    </tr>\n",
       "    <tr>\n",
       "      <th>656572</th>\n",
       "      <td>JOB1362685064259</td>\n",
       "      <td>COMP28</td>\n",
       "      <td>JUNIOR</td>\n",
       "      <td>DOCTORAL</td>\n",
       "      <td>BUSINESS</td>\n",
       "      <td>OIL</td>\n",
       "      <td>22</td>\n",
       "      <td>3</td>\n",
       "      <td>222</td>\n",
       "    </tr>\n",
       "    <tr>\n",
       "      <th>685775</th>\n",
       "      <td>JOB1362685093462</td>\n",
       "      <td>COMP38</td>\n",
       "      <td>JUNIOR</td>\n",
       "      <td>BACHELORS</td>\n",
       "      <td>ENGINEERING</td>\n",
       "      <td>OIL</td>\n",
       "      <td>24</td>\n",
       "      <td>13</td>\n",
       "      <td>225</td>\n",
       "    </tr>\n",
       "    <tr>\n",
       "      <th>743326</th>\n",
       "      <td>JOB1362685151013</td>\n",
       "      <td>COMP14</td>\n",
       "      <td>JUNIOR</td>\n",
       "      <td>DOCTORAL</td>\n",
       "      <td>BUSINESS</td>\n",
       "      <td>FINANCE</td>\n",
       "      <td>19</td>\n",
       "      <td>0</td>\n",
       "      <td>236</td>\n",
       "    </tr>\n",
       "    <tr>\n",
       "      <th>787674</th>\n",
       "      <td>JOB1362685195361</td>\n",
       "      <td>COMP43</td>\n",
       "      <td>JUNIOR</td>\n",
       "      <td>DOCTORAL</td>\n",
       "      <td>BUSINESS</td>\n",
       "      <td>FINANCE</td>\n",
       "      <td>18</td>\n",
       "      <td>15</td>\n",
       "      <td>232</td>\n",
       "    </tr>\n",
       "    <tr>\n",
       "      <th>796956</th>\n",
       "      <td>JOB1362685204643</td>\n",
       "      <td>COMP30</td>\n",
       "      <td>JUNIOR</td>\n",
       "      <td>MASTERS</td>\n",
       "      <td>BUSINESS</td>\n",
       "      <td>OIL</td>\n",
       "      <td>24</td>\n",
       "      <td>2</td>\n",
       "      <td>228</td>\n",
       "    </tr>\n",
       "    <tr>\n",
       "      <th>855219</th>\n",
       "      <td>JOB1362685262906</td>\n",
       "      <td>COMP13</td>\n",
       "      <td>JUNIOR</td>\n",
       "      <td>MASTERS</td>\n",
       "      <td>ENGINEERING</td>\n",
       "      <td>OIL</td>\n",
       "      <td>22</td>\n",
       "      <td>26</td>\n",
       "      <td>225</td>\n",
       "    </tr>\n",
       "    <tr>\n",
       "      <th>954368</th>\n",
       "      <td>JOB1362685362055</td>\n",
       "      <td>COMP11</td>\n",
       "      <td>JUNIOR</td>\n",
       "      <td>DOCTORAL</td>\n",
       "      <td>BUSINESS</td>\n",
       "      <td>OIL</td>\n",
       "      <td>24</td>\n",
       "      <td>26</td>\n",
       "      <td>223</td>\n",
       "    </tr>\n",
       "  </tbody>\n",
       "</table>\n",
       "</div>"
      ],
      "text/plain": [
       "                   jobId companyId jobType     degree        major industry  \\\n",
       "1222    JOB1362684408909    COMP40  JUNIOR    MASTERS      COMPSCI      OIL   \n",
       "27710   JOB1362684435397    COMP21  JUNIOR   DOCTORAL  ENGINEERING      OIL   \n",
       "31355   JOB1362684439042    COMP45  JUNIOR   DOCTORAL      COMPSCI  FINANCE   \n",
       "100042  JOB1362684507729    COMP17  JUNIOR   DOCTORAL     BUSINESS  FINANCE   \n",
       "160333  JOB1362684568020    COMP18  JUNIOR   DOCTORAL     BUSINESS  FINANCE   \n",
       "189582  JOB1362684597269    COMP32  JUNIOR   DOCTORAL     BUSINESS      OIL   \n",
       "214606  JOB1362684622293    COMP47  JUNIOR    MASTERS     BUSINESS  FINANCE   \n",
       "303778  JOB1362684711465    COMP51  JUNIOR    MASTERS  ENGINEERING      WEB   \n",
       "348354  JOB1362684756041    COMP56  JUNIOR   DOCTORAL  ENGINEERING      OIL   \n",
       "427593  JOB1362684835280    COMP54  JUNIOR   DOCTORAL  ENGINEERING  FINANCE   \n",
       "500739  JOB1362684908426    COMP40  JUNIOR   DOCTORAL  ENGINEERING      OIL   \n",
       "627534  JOB1362685035221     COMP5  JUNIOR   DOCTORAL  ENGINEERING      OIL   \n",
       "645555  JOB1362685053242    COMP36  JUNIOR   DOCTORAL     BUSINESS  FINANCE   \n",
       "656572  JOB1362685064259    COMP28  JUNIOR   DOCTORAL     BUSINESS      OIL   \n",
       "685775  JOB1362685093462    COMP38  JUNIOR  BACHELORS  ENGINEERING      OIL   \n",
       "743326  JOB1362685151013    COMP14  JUNIOR   DOCTORAL     BUSINESS  FINANCE   \n",
       "787674  JOB1362685195361    COMP43  JUNIOR   DOCTORAL     BUSINESS  FINANCE   \n",
       "796956  JOB1362685204643    COMP30  JUNIOR    MASTERS     BUSINESS      OIL   \n",
       "855219  JOB1362685262906    COMP13  JUNIOR    MASTERS  ENGINEERING      OIL   \n",
       "954368  JOB1362685362055    COMP11  JUNIOR   DOCTORAL     BUSINESS      OIL   \n",
       "\n",
       "        yearsExperience  milesFromMetropolis  salary  \n",
       "1222                 24                    5     225  \n",
       "27710                24                    3     246  \n",
       "31355                24                    0     225  \n",
       "100042               23                    8     248  \n",
       "160333               22                    3     223  \n",
       "189582               24                   11     221  \n",
       "214606               22                    4     222  \n",
       "303778               24                    2     226  \n",
       "348354               23                   25     226  \n",
       "427593               23                    3     221  \n",
       "500739               21                    0     227  \n",
       "627534               24                   29     230  \n",
       "645555               24                    1     225  \n",
       "656572               22                    3     222  \n",
       "685775               24                   13     225  \n",
       "743326               19                    0     236  \n",
       "787674               18                   15     232  \n",
       "796956               24                    2     228  \n",
       "855219               22                   26     225  \n",
       "954368               24                   26     223  "
      ]
     },
     "execution_count": 19,
     "metadata": {},
     "output_type": "execute_result"
    }
   ],
   "source": [
    "df[(df.jobType=='JUNIOR')&(df.salary>=220.5)]"
   ]
  },
  {
   "cell_type": "code",
   "execution_count": 20,
   "metadata": {},
   "outputs": [],
   "source": [
    "no_sense = df[df.salary<=8.5].index\n",
    "df.drop(no_sense,inplace=True)"
   ]
  },
  {
   "cell_type": "markdown",
   "metadata": {},
   "source": [
    "After finding the outliers we learned the upper end of the outliers is around 220k and above while the lower end is around 8k and lower. This required further analysis, the upper end of the outliers seemed reasonable as we learned based on the mean from each category, that certain industries, majors,job types and educational levels tend to correlate with higher salaries. The only question posed by these outliers was that some job titles included \"JUNIOR\" job type which was not among the higher salaries. After analyzing these JUNIOR job types with salaries around 200k we learned that accompanied by the industry, major educational level and years of experience this information seemed reasonable as well. On the lower end we found that all salaries were 0k, with features that either tended to correlate with high salaries, allowing us to assume that this was either a form of missing or improperly computed data. Although some of the jobIds with salaries of 0 associated with higher salaries, most of the unique Ids varied among other characteristics, making it a risky assumption to try and compute and replace the value as it could create some faulty information. Instead we will drop these rows."
   ]
  },
  {
   "cell_type": "code",
   "execution_count": 21,
   "metadata": {},
   "outputs": [],
   "source": [
    "def cat_col_plotter(df,col,target):\n",
    "    sns.boxplot(x=col,y=target,data=df)\n",
    "    \n",
    "    plt.xticks(rotation=45)\n",
    "    plt.ylabel('Salaries')\n",
    "    plt.show()"
   ]
  },
  {
   "cell_type": "markdown",
   "metadata": {},
   "source": [
    "Further visual analysis of each category reinforced information previously learned by computing the mean for each categorys salary. It's now understood that not only the average salary, but the vast majority of salaries as well increased or decreased based on job type, industry, major, educational level, years of experience and miles from metropolis. This information provided us with valuable insight that these categories do infact correlate with salary."
   ]
  },
  {
   "cell_type": "code",
   "execution_count": 22,
   "metadata": {},
   "outputs": [
    {
     "data": {
      "image/png": "[encoded data removed]",
      "text/plain": [
       "<Figure size 432x288 with 1 Axes>"
      ]
     },
     "metadata": {
      "needs_background": "light"
     },
     "output_type": "display_data"
    },
    {
     "data": {
      "image/png": "[encoded data removed]",
      "text/plain": [
       "<Figure size 432x288 with 1 Axes>"
      ]
     },
     "metadata": {
      "needs_background": "light"
     },
     "output_type": "display_data"
    },
    {
     "data": {
      "image/png": "[encoded data removed]",
      "text/plain": [
       "<Figure size 432x288 with 1 Axes>"
      ]
     },
     "metadata": {
      "needs_background": "light"
     },
     "output_type": "display_data"
    },
    {
     "data": {
      "image/png": "[encoded data removed]",
      "text/plain": [
       "<Figure size 432x288 with 1 Axes>"
      ]
     },
     "metadata": {
      "needs_background": "light"
     },
     "output_type": "display_data"
    }
   ],
   "source": [
    "cols = ['jobType','degree','major','industry']\n",
    "for i in cols:\n",
    "    cat_col_plotter(df,i,'salary')"
   ]
  },
  {
   "cell_type": "code",
   "execution_count": 23,
   "metadata": {},
   "outputs": [
    {
     "data": {
      "image/png": "[encoded data removed]",
      "text/plain": [
       "<Figure size 360x360 with 1 Axes>"
      ]
     },
     "metadata": {
      "needs_background": "light"
     },
     "output_type": "display_data"
    },
    {
     "data": {
      "image/png": "[encoded data removed]",
      "text/plain": [
       "<Figure size 360x360 with 1 Axes>"
      ]
     },
     "metadata": {
      "needs_background": "light"
     },
     "output_type": "display_data"
    }
   ],
   "source": [
    "num_cols = ['yearsExperience','milesFromMetropolis']\n",
    "def num_col_plotter(df,col,target):\n",
    "    sns.relplot(x=col,y=target,ci='sd', kind='line',data=df)\n",
    "\n",
    "for col in num_cols:\n",
    "    num_col_plotter(df,col,'salary')"
   ]
  },
  {
   "cell_type": "code",
   "execution_count": 24,
   "metadata": {},
   "outputs": [],
   "source": [
    "#df2=df.copy()\n",
    "for col in cols:\n",
    "    col_mean = df.groupby(col)['salary'].mean()\n",
    "    col_df = pd.DataFrame(data=col_mean)\n",
    "    mean_sal = {'salary':'mean_salary_'+col}\n",
    "    col_df.rename(mean_sal,axis=1,inplace=True)\n",
    "    col_df = col_df.reset_index()\n",
    "    df = pd.merge(df,col_df,how='left')\n",
    "    test_feats = pd.merge(test_feats,col_df,how='left')"
   ]
  },
  {
   "cell_type": "code",
   "execution_count": 25,
   "metadata": {},
   "outputs": [
    {
     "data": {
      "image/png": "[encoded data removed]",
      "text/plain": [
       "<Figure size 864x720 with 2 Axes>"
      ]
     },
     "metadata": {
      "needs_background": "light"
     },
     "output_type": "display_data"
    }
   ],
   "source": [
    "fig = plt.figure(figsize=(12, 10))\n",
    "features = df._get_numeric_data()\n",
    "sns.heatmap(features.corr(), cmap='RdBu_r', annot=True)\n",
    "plt.xticks(rotation=45)\n",
    "plt.show()"
   ]
  },
  {
   "cell_type": "code",
   "execution_count": 27,
   "metadata": {},
   "outputs": [
    {
     "data": {
      "text/html": [
       "<div>\n",
       "<style scoped>\n",
       "    .dataframe tbody tr th:only-of-type {\n",
       "        vertical-align: middle;\n",
       "    }\n",
       "\n",
       "    .dataframe tbody tr th {\n",
       "        vertical-align: top;\n",
       "    }\n",
       "\n",
       "    .dataframe thead th {\n",
       "        text-align: right;\n",
       "    }\n",
       "</style>\n",
       "<table border=\"1\" class=\"dataframe\">\n",
       "  <thead>\n",
       "    <tr style=\"text-align: right;\">\n",
       "      <th></th>\n",
       "      <th>jobId</th>\n",
       "      <th>companyId</th>\n",
       "      <th>jobType</th>\n",
       "      <th>degree</th>\n",
       "      <th>major</th>\n",
       "      <th>industry</th>\n",
       "      <th>yearsExperience</th>\n",
       "      <th>milesFromMetropolis</th>\n",
       "      <th>mean_salary_jobType</th>\n",
       "      <th>mean_salary_degree</th>\n",
       "      <th>mean_salary_major</th>\n",
       "      <th>mean_salary_industry</th>\n",
       "    </tr>\n",
       "  </thead>\n",
       "  <tbody>\n",
       "    <tr>\n",
       "      <th>0</th>\n",
       "      <td>JOB1362685407687</td>\n",
       "      <td>COMP33</td>\n",
       "      <td>MANAGER</td>\n",
       "      <td>HIGH_SCHOOL</td>\n",
       "      <td>NONE</td>\n",
       "      <td>HEALTH</td>\n",
       "      <td>22</td>\n",
       "      <td>73</td>\n",
       "      <td>115.368518</td>\n",
       "      <td>101.921085</td>\n",
       "      <td>102.583864</td>\n",
       "      <td>115.73554</td>\n",
       "    </tr>\n",
       "  </tbody>\n",
       "</table>\n",
       "</div>"
      ],
      "text/plain": [
       "              jobId companyId  jobType       degree major industry  \\\n",
       "0  JOB1362685407687    COMP33  MANAGER  HIGH_SCHOOL  NONE   HEALTH   \n",
       "\n",
       "   yearsExperience  milesFromMetropolis  mean_salary_jobType  \\\n",
       "0               22                   73           115.368518   \n",
       "\n",
       "   mean_salary_degree  mean_salary_major  mean_salary_industry  \n",
       "0          101.921085         102.583864             115.73554  "
      ]
     },
     "execution_count": 27,
     "metadata": {},
     "output_type": "execute_result"
    }
   ],
   "source": [
    "test_feats.head(1)"
   ]
  },
  {
   "cell_type": "markdown",
   "metadata": {},
   "source": [
    "### Establish Baseline"
   ]
  },
  {
   "cell_type": "markdown",
   "metadata": {},
   "source": [
    "Since there seems to be a linear relationship between salary and its neighboring categories and distinct correlations, it seems logical to use a linear regression as a baseline model for this study. With that being said, mean squared error would be a good metric to use for this problem, as minimizing the difference between the predict value and actual value would improve our results and end goal."
   ]
  },
  {
   "cell_type": "markdown",
   "metadata": {},
   "source": [
    "### Hypothesis"
   ]
  },
  {
   "cell_type": "markdown",
   "metadata": {},
   "source": [
    "Due to the fact that the relationship is linear it could be beneficial to also use a Random Forest as well as Gradient Boosting. After generating the mean for each categorical feature, and then one hot encoding all of these categories there will be a relatively large number of features and Random Forest is a model that deals well with a variety of features. Since Gradient Boosting is an ensemble method that oppose to Random Forest learns from the previous trees, this model could preform better than the prior. "
   ]
  },
  {
   "cell_type": "code",
   "execution_count": 28,
   "metadata": {},
   "outputs": [],
   "source": [
    "import warnings\n",
    "warnings.filterwarnings('ignore')\n",
    "from sklearn.linear_model import LinearRegression\n",
    "from sklearn.ensemble import RandomForestRegressor\n",
    "from sklearn.ensemble import GradientBoostingRegressor\n",
    "from sklearn.model_selection import cross_val_score, KFold\n",
    "from sklearn.metrics import mean_squared_error\n",
    "from sklearn.model_selection import train_test_split"
   ]
  },
  {
   "cell_type": "code",
   "execution_count": 29,
   "metadata": {},
   "outputs": [
    {
     "data": {
      "text/html": [
       "<div>\n",
       "<style scoped>\n",
       "    .dataframe tbody tr th:only-of-type {\n",
       "        vertical-align: middle;\n",
       "    }\n",
       "\n",
       "    .dataframe tbody tr th {\n",
       "        vertical-align: top;\n",
       "    }\n",
       "\n",
       "    .dataframe thead th {\n",
       "        text-align: right;\n",
       "    }\n",
       "</style>\n",
       "<table border=\"1\" class=\"dataframe\">\n",
       "  <thead>\n",
       "    <tr style=\"text-align: right;\">\n",
       "      <th></th>\n",
       "      <th>jobType</th>\n",
       "      <th>degree</th>\n",
       "      <th>major</th>\n",
       "      <th>industry</th>\n",
       "      <th>yearsExperience</th>\n",
       "      <th>milesFromMetropolis</th>\n",
       "      <th>salary</th>\n",
       "      <th>mean_salary_jobType</th>\n",
       "      <th>mean_salary_degree</th>\n",
       "      <th>mean_salary_major</th>\n",
       "      <th>mean_salary_industry</th>\n",
       "    </tr>\n",
       "  </thead>\n",
       "  <tbody>\n",
       "    <tr>\n",
       "      <th>0</th>\n",
       "      <td>CFO</td>\n",
       "      <td>MASTERS</td>\n",
       "      <td>MATH</td>\n",
       "      <td>HEALTH</td>\n",
       "      <td>10</td>\n",
       "      <td>83</td>\n",
       "      <td>130</td>\n",
       "      <td>135.458547</td>\n",
       "      <td>130.505647</td>\n",
       "      <td>133.322042</td>\n",
       "      <td>115.73554</td>\n",
       "    </tr>\n",
       "  </tbody>\n",
       "</table>\n",
       "</div>"
      ],
      "text/plain": [
       "  jobType   degree major industry  yearsExperience  milesFromMetropolis  \\\n",
       "0     CFO  MASTERS  MATH   HEALTH               10                   83   \n",
       "\n",
       "   salary  mean_salary_jobType  mean_salary_degree  mean_salary_major  \\\n",
       "0     130           135.458547          130.505647         133.322042   \n",
       "\n",
       "   mean_salary_industry  \n",
       "0             115.73554  "
      ]
     },
     "execution_count": 29,
     "metadata": {},
     "output_type": "execute_result"
    }
   ],
   "source": [
    "to_drop = ['jobId','companyId']\n",
    "df.drop(to_drop,axis=1,inplace=True)\n",
    "test_feats.drop(to_drop,axis=1,inplace=True)\n",
    "df.head(1)"
   ]
  },
  {
   "cell_type": "code",
   "execution_count": 30,
   "metadata": {},
   "outputs": [
    {
     "data": {
      "text/html": [
       "<div>\n",
       "<style scoped>\n",
       "    .dataframe tbody tr th:only-of-type {\n",
       "        vertical-align: middle;\n",
       "    }\n",
       "\n",
       "    .dataframe tbody tr th {\n",
       "        vertical-align: top;\n",
       "    }\n",
       "\n",
       "    .dataframe thead th {\n",
       "        text-align: right;\n",
       "    }\n",
       "</style>\n",
       "<table border=\"1\" class=\"dataframe\">\n",
       "  <thead>\n",
       "    <tr style=\"text-align: right;\">\n",
       "      <th></th>\n",
       "      <th>yearsExperience</th>\n",
       "      <th>milesFromMetropolis</th>\n",
       "      <th>salary</th>\n",
       "      <th>mean_salary_jobType</th>\n",
       "      <th>mean_salary_degree</th>\n",
       "      <th>mean_salary_major</th>\n",
       "      <th>mean_salary_industry</th>\n",
       "      <th>jobType_CEO</th>\n",
       "      <th>jobType_CFO</th>\n",
       "      <th>jobType_CTO</th>\n",
       "      <th>...</th>\n",
       "      <th>major_MATH</th>\n",
       "      <th>major_NONE</th>\n",
       "      <th>major_PHYSICS</th>\n",
       "      <th>industry_AUTO</th>\n",
       "      <th>industry_EDUCATION</th>\n",
       "      <th>industry_FINANCE</th>\n",
       "      <th>industry_HEALTH</th>\n",
       "      <th>industry_OIL</th>\n",
       "      <th>industry_SERVICE</th>\n",
       "      <th>industry_WEB</th>\n",
       "    </tr>\n",
       "  </thead>\n",
       "  <tbody>\n",
       "    <tr>\n",
       "      <th>0</th>\n",
       "      <td>10</td>\n",
       "      <td>83</td>\n",
       "      <td>130</td>\n",
       "      <td>135.458547</td>\n",
       "      <td>130.505647</td>\n",
       "      <td>133.322042</td>\n",
       "      <td>115.73554</td>\n",
       "      <td>0</td>\n",
       "      <td>1</td>\n",
       "      <td>0</td>\n",
       "      <td>...</td>\n",
       "      <td>1</td>\n",
       "      <td>0</td>\n",
       "      <td>0</td>\n",
       "      <td>0</td>\n",
       "      <td>0</td>\n",
       "      <td>0</td>\n",
       "      <td>1</td>\n",
       "      <td>0</td>\n",
       "      <td>0</td>\n",
       "      <td>0</td>\n",
       "    </tr>\n",
       "  </tbody>\n",
       "</table>\n",
       "<p>1 rows × 36 columns</p>\n",
       "</div>"
      ],
      "text/plain": [
       "   yearsExperience  milesFromMetropolis  salary  mean_salary_jobType  \\\n",
       "0               10                   83     130           135.458547   \n",
       "\n",
       "   mean_salary_degree  mean_salary_major  mean_salary_industry  jobType_CEO  \\\n",
       "0          130.505647         133.322042             115.73554            0   \n",
       "\n",
       "   jobType_CFO  jobType_CTO      ...       major_MATH  major_NONE  \\\n",
       "0            1            0      ...                1           0   \n",
       "\n",
       "   major_PHYSICS  industry_AUTO  industry_EDUCATION  industry_FINANCE  \\\n",
       "0              0              0                   0                 0   \n",
       "\n",
       "   industry_HEALTH  industry_OIL  industry_SERVICE  industry_WEB  \n",
       "0                1             0                 0             0  \n",
       "\n",
       "[1 rows x 36 columns]"
      ]
     },
     "execution_count": 30,
     "metadata": {},
     "output_type": "execute_result"
    }
   ],
   "source": [
    "df = pd.get_dummies(df)\n",
    "test = pd.get_dummies(test_feats)\n",
    "df.head(1)"
   ]
  },
  {
   "cell_type": "code",
   "execution_count": 31,
   "metadata": {},
   "outputs": [],
   "source": [
    "x = df.drop('salary',axis=1)\n",
    "y= df.salary"
   ]
  },
  {
   "cell_type": "code",
   "execution_count": 32,
   "metadata": {},
   "outputs": [],
   "source": [
    "num_procs = 2\n",
    "verbose_lvl =5\n",
    "lr = LinearRegression()\n",
    "rfr = RandomForestRegressor(n_estimators=150, n_jobs=num_procs, max_depth=25, min_samples_split=80, \\\n",
    "                            max_features=30, verbose=verbose_lvl)\n",
    "gbm = GradientBoostingRegressor(n_estimators=150,max_depth=5,loss='ls',verbose=verbose_lvl)"
   ]
  },
  {
   "cell_type": "code",
   "execution_count": 33,
   "metadata": {},
   "outputs": [],
   "source": [
    "models = [lr,rfr,gbm]\n",
    "mean_mse= {}\n",
    "def train_models(model,features,target,num_procs,mean_mse):\n",
    "    neg_mse = cross_val_score(model,features,target,cv=2,n_jobs=num_procs,scoring='neg_mean_squared_error')\n",
    "    mean_mse[model]=-1.0*np.mean(neg_mse)"
   ]
  },
  {
   "cell_type": "code",
   "execution_count": 34,
   "metadata": {},
   "outputs": [],
   "source": [
    "def print_model_results(model,mean_mse):\n",
    "    print('\\nModel: \\n',model)\n",
    "    print('Mean Squared Error:\\n ',mean_mse[model])"
   ]
  },
  {
   "cell_type": "code",
   "execution_count": 35,
   "metadata": {},
   "outputs": [
    {
     "name": "stdout",
     "output_type": "stream",
     "text": [
      "\n",
      "Model: \n",
      " LinearRegression(copy_X=True, fit_intercept=True, n_jobs=None,\n",
      "         normalize=False)\n",
      "Mean Squared Error:\n",
      "  384.43161281594126\n",
      "\n",
      "Model: \n",
      " RandomForestRegressor(bootstrap=True, criterion='mse', max_depth=25,\n",
      "           max_features=30, max_leaf_nodes=None, min_impurity_decrease=0.0,\n",
      "           min_impurity_split=None, min_samples_leaf=1,\n",
      "           min_samples_split=80, min_weight_fraction_leaf=0.0,\n",
      "           n_estimators=150, n_jobs=2, oob_score=False, random_state=None,\n",
      "           verbose=5, warm_start=False)\n",
      "Mean Squared Error:\n",
      "  365.7002962359653\n",
      "\n",
      "Model: \n",
      " GradientBoostingRegressor(alpha=0.9, criterion='friedman_mse', init=None,\n",
      "             learning_rate=0.1, loss='ls', max_depth=5, max_features=None,\n",
      "             max_leaf_nodes=None, min_impurity_decrease=0.0,\n",
      "             min_impurity_split=None, min_samples_leaf=1,\n",
      "             min_samples_split=2, min_weight_fraction_leaf=0.0,\n",
      "             n_estimators=150, n_iter_no_change=None, presort='auto',\n",
      "             random_state=None, subsample=1.0, tol=0.0001,\n",
      "             validation_fraction=0.1, verbose=5, warm_start=False)\n",
      "Mean Squared Error:\n",
      "  356.7320846247058\n"
     ]
    }
   ],
   "source": [
    "for model in models:\n",
    "    train_models(model,x,y,num_procs,mean_mse)\n",
    "    print_model_results(model,mean_mse)"
   ]
  },
  {
   "cell_type": "code",
   "execution_count": 36,
   "metadata": {},
   "outputs": [
    {
     "name": "stdout",
     "output_type": "stream",
     "text": [
      "      Iter       Train Loss   Remaining Time \n",
      "         1        1325.3250           20.26m\n",
      "         2        1182.8030           19.96m\n",
      "         3        1061.8355           19.80m\n",
      "         4         963.6307           19.54m\n",
      "         5         879.3636           19.44m\n",
      "         6         810.2950           19.28m\n",
      "         7         751.2314           19.14m\n",
      "         8         699.7277           18.98m\n",
      "         9         657.1792           18.89m\n",
      "        10         620.8690           18.79m\n",
      "        11         588.5642           18.78m\n",
      "        12         561.7357           18.67m\n",
      "        13         537.8290           18.56m\n",
      "        14         517.3726           18.37m\n",
      "        15         499.5271           18.26m\n",
      "        16         484.3678           18.14m\n",
      "        17         470.5134           18.01m\n",
      "        18         458.7610           17.84m\n",
      "        19         448.0286           17.66m\n",
      "        20         439.0979           17.51m\n",
      "        21         430.9475           17.36m\n",
      "        22         423.6769           17.25m\n",
      "        23         417.4512           17.02m\n",
      "        24         411.7957           16.86m\n",
      "        25         406.4723           16.68m\n",
      "        26         402.0262           16.48m\n",
      "        27         397.7850           16.30m\n",
      "        28         394.2895           16.08m\n",
      "        29         391.1604           15.93m\n",
      "        30         388.1107           15.75m\n",
      "        31         385.5302           15.62m\n",
      "        32         383.2738           15.49m\n",
      "        33         380.8658           15.33m\n",
      "        34         378.9568           15.13m\n",
      "        35         377.2167           14.98m\n",
      "        36         375.6147           14.83m\n",
      "        37         374.2938           14.66m\n",
      "        38         373.0736           14.50m\n",
      "        39         371.7525           14.34m\n",
      "        40         370.7672           14.17m\n",
      "        41         369.8886           14.04m\n",
      "        42         368.7006           13.89m\n",
      "        43         367.9580           13.75m\n",
      "        44         367.2910           13.62m\n",
      "        45         366.6858           13.49m\n",
      "        46         365.9644           13.34m\n",
      "        47         365.1410           13.22m\n",
      "        48         364.7006           13.09m\n",
      "        49         364.2932           12.98m\n",
      "        50         363.8975           12.91m\n",
      "        51         363.5386           12.83m\n",
      "        52         362.9182           12.69m\n",
      "        53         362.6340           12.61m\n",
      "        54         362.3916           12.49m\n",
      "        55         362.1598           12.39m\n",
      "        56         361.9603           12.24m\n",
      "        57         361.7323           12.14m\n",
      "        58         361.4937           11.98m\n",
      "        59         361.2954           11.89m\n",
      "        60         360.6848           11.74m\n",
      "        61         360.5134           11.64m\n",
      "        62         360.3726           11.51m\n",
      "        63         360.1998           11.37m\n",
      "        64         360.0438           11.23m\n",
      "        65         359.8669           11.09m\n",
      "        66         359.7622           10.96m\n",
      "        67         359.6700           10.87m\n",
      "        68         359.5851           10.77m\n",
      "        69         359.4892           10.64m\n",
      "        70         359.3837           10.49m\n",
      "        71         359.1116           10.35m\n",
      "        72         359.0230           10.24m\n",
      "        73         358.9591           10.13m\n",
      "        74         358.8846            9.98m\n",
      "        75         358.7791            9.84m\n",
      "        76         358.7258            9.71m\n",
      "        77         358.5902            9.57m\n",
      "        78         358.4952            9.44m\n",
      "        79         358.4385            9.29m\n",
      "        80         358.4027            9.17m\n",
      "        81         358.2839            9.03m\n",
      "        82         358.2274            8.89m\n",
      "        83         358.1601            8.74m\n",
      "        84         358.1053            8.60m\n",
      "        85         358.0706            8.48m\n",
      "        86         358.0260            8.35m\n",
      "        87         357.5528            8.21m\n",
      "        88         357.5149            8.07m\n",
      "        89         357.4751            7.92m\n",
      "        90         357.4535            7.78m\n",
      "        91         357.3447            7.64m\n",
      "        92         357.2991            7.50m\n",
      "        93         357.2679            7.35m\n",
      "        94         357.2324            7.22m\n",
      "        95         357.0598            7.07m\n",
      "        96         357.0326            6.93m\n",
      "        97         357.0060            6.79m\n",
      "        98         356.8721            6.66m\n",
      "        99         356.8506            6.52m\n",
      "       100         356.6500            6.37m\n",
      "       101         356.5768            6.24m\n",
      "       102         356.4157            6.10m\n",
      "       103         356.2714            5.97m\n",
      "       104         356.2424            5.85m\n",
      "       105         356.1271            5.72m\n",
      "       106         356.1135            5.58m\n",
      "       107         356.0986            5.45m\n",
      "       108         355.9673            5.32m\n",
      "       109         355.9487            5.20m\n",
      "       110         355.8770            5.07m\n",
      "       111         355.8603            4.94m\n",
      "       112         355.8233            4.81m\n",
      "       113         355.8073            4.68m\n",
      "       114         355.7891            4.55m\n",
      "       115         355.7745            4.43m\n",
      "       116         355.7099            4.30m\n",
      "       117         355.6949            4.17m\n",
      "       118         355.6793            4.05m\n",
      "       119         355.6659            3.92m\n",
      "       120         355.6082            3.79m\n",
      "       121         355.5994            3.66m\n",
      "       122         355.5900            3.53m\n",
      "       123         355.5793            3.40m\n",
      "       124         355.5439            3.27m\n",
      "       125         355.5041            3.15m\n",
      "       126         355.3400            3.02m\n",
      "       127         355.3287            2.89m\n",
      "       128         355.2847            2.77m\n",
      "       129         355.2669            2.64m\n",
      "       130         355.2550            2.52m\n",
      "       131         355.1678            2.39m\n",
      "       132         355.1485            2.26m\n",
      "       133         355.0397            2.13m\n",
      "       134         355.0307            2.01m\n",
      "       135         355.0176            1.88m\n",
      "       136         354.9409            1.76m\n",
      "       137         354.9338            1.63m\n",
      "       138         354.8700            1.50m\n",
      "       139         354.8586            1.38m\n",
      "       140         354.8470            1.25m\n",
      "       141         354.8262            1.13m\n",
      "       142         354.8180            1.00m\n",
      "       143         354.7521           52.57s\n",
      "       144         354.7304           45.06s\n",
      "       145         354.7021           37.54s\n",
      "       146         354.6300           30.00s\n",
      "       147         354.5681           22.48s\n",
      "       148         354.5127           14.96s\n",
      "       149         354.4821            7.48s\n",
      "       150         354.4719            0.00s\n"
     ]
    }
   ],
   "source": [
    "#Train model on entire dataset\n",
    "gbm.fit(x,y)\n",
    "\n",
    "preds = gbm.predict(test)"
   ]
  },
  {
   "cell_type": "code",
   "execution_count": 38,
   "metadata": {},
   "outputs": [
    {
     "data": {
      "text/plain": [
       "<BarContainer object of 6 artists>"
      ]
     },
     "execution_count": 38,
     "metadata": {},
     "output_type": "execute_result"
    },
    {
     "data": {
      "image/png": "[encoded data removed]",
      "text/plain": [
       "<Figure size 432x576 with 1 Axes>"
      ]
     },
     "metadata": {
      "needs_background": "light"
     },
     "output_type": "display_data"
    }
   ],
   "source": [
    "df_feat_importances_gbm = pd.DataFrame(list(zip(x,gbm.feature_importances_)), columns=['Feature','Importance']).head(6)\n",
    "df_feat_importances_gbm.sort_values(by='Importance', inplace=True)\n",
    "plt.figure(figsize=[6,8])\n",
    "plt.barh(df_feat_importances_gbm['Feature'],df_feat_importances_gbm['Importance'])"
   ]
  },
  {
   "cell_type": "markdown",
   "metadata": {},
   "source": [
    "Based on the features of importance from the Gradient Boosting Regressor, our model that had the lowest mean squared error, its clear that job type, years of experience and distance from Metropolis are key indicators of salary. The mean salary for each category played a very important role on what employees are paid as they tended to reflect that category as whole . These can give employeers a good indication of how they should pay prospective employees in comparison to a given employees job type, major, educational level, years experience and miles from Metropolis."
   ]
  },
  {
   "cell_type": "code",
   "execution_count": null,
   "metadata": {},
   "outputs": [],
   "source": []
  }
 ],
 "metadata": {
  "kernelspec": {
   "display_name": "Python 3",
   "language": "python",
   "name": "python3"
  },
  "language_info": {
   "codemirror_mode": {
    "name": "ipython",
    "version": 3
   },
   "file_extension": ".py",
   "mimetype": "text/x-python",
   "name": "python",
   "nbconvert_exporter": "python",
   "pygments_lexer": "ipython3",
   "version": "3.7.1"
  }
 },
 "nbformat": 4,
 "nbformat_minor": 2
}
